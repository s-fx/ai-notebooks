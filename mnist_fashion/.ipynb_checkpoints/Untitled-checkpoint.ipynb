{
 "cells": [
  {
   "cell_type": "code",
   "execution_count": 1,
   "id": "a053d1b3",
   "metadata": {},
   "outputs": [],
   "source": [
    "# MNIST NN "
   ]
  },
  {
   "cell_type": "code",
   "execution_count": 2,
   "id": "33aa3b96",
   "metadata": {},
   "outputs": [],
   "source": [
    "import numpy as np \n",
    "import torch\n",
    "from torch import nn\n",
    "from torch.utils.data import DataLoader\n",
    "from torchvision import datasets\n",
    "from torchvision.transforms import ToTensor\n",
    "import matplotlib.pyplot as plt\n",
    "\n",
    "torch.set_printoptions(sci_mode=False)"
   ]
  },
  {
   "cell_type": "code",
   "execution_count": 3,
   "id": "be6f3738",
   "metadata": {},
   "outputs": [],
   "source": [
    "# Load dataset\n",
    "\n",
    "train_data = datasets.FashionMNIST(\n",
    "    root=\"data\",\n",
    "    train=True,\n",
    "    download=True,\n",
    "    transform=ToTensor(),\n",
    ")\n",
    "\n",
    "test_data = datasets.FashionMNIST(\n",
    "    root=\"data\",\n",
    "    train=False,\n",
    "    download=True,\n",
    "    transform=ToTensor(),\n",
    ")"
   ]
  },
  {
   "cell_type": "code",
   "execution_count": 4,
   "id": "32ce6e02",
   "metadata": {
    "scrolled": false
   },
   "outputs": [
    {
     "data": {
      "image/png": "[encoded data removed]",
      "text/plain": [
       "<Figure size 432x288 with 1 Axes>"
      ]
     },
     "metadata": {
      "needs_background": "light"
     },
     "output_type": "display_data"
    }
   ],
   "source": [
    "x,y = train_data[0]\n",
    "x_ = x.reshape(28,28,1)\n",
    "plt.imshow(x_);"
   ]
  },
  {
   "cell_type": "code",
   "execution_count": 5,
   "id": "f82f2c59",
   "metadata": {},
   "outputs": [],
   "source": [
    "# create dataloaders\n",
    "def train_loader(batch_size):\n",
    "    return DataLoader(train_data, batch_size=batch_size, shuffle=True)\n",
    "\n",
    "\n",
    "def test_loader(batch_size):\n",
    "    return DataLoader(test_data, batch_size=batch_size, shuffle=False)\n"
   ]
  },
  {
   "cell_type": "code",
   "execution_count": 6,
   "id": "51cb3010",
   "metadata": {},
   "outputs": [
    {
     "name": "stdout",
     "output_type": "stream",
     "text": [
      "Using cpu device\n"
     ]
    }
   ],
   "source": [
    "device = \"cuda\" if torch.cuda.is_available() else \"cpu\"\n",
    "print(f\"Using {device} device\")"
   ]
  },
  {
   "cell_type": "code",
   "execution_count": 7,
   "id": "ca26eb52",
   "metadata": {},
   "outputs": [],
   "source": [
    "# define FCN model \n",
    "class FashionNN(nn.Module):\n",
    "    def __init__(self):\n",
    "        super(FashionNN, self).__init__()\n",
    "        self.input = nn.Sequential(\n",
    "                            nn.Flatten(),\n",
    "                            nn.Linear(28*28, 512),\n",
    "                            nn.ReLU())\n",
    "        self.hidden = nn.Sequential(\n",
    "                            nn.Linear(512,128),\n",
    "                            nn.ReLU())\n",
    "        self.output = nn.Sequential(\n",
    "                            nn.Linear(128,10))\n",
    "     \n",
    "    def forward(self,x):\n",
    "        x = self.input(x)\n",
    "        x = self.hidden(x)\n",
    "        x = self.output(x)\n",
    "        return x"
   ]
  },
  {
   "cell_type": "code",
   "execution_count": 8,
   "id": "151f0472",
   "metadata": {},
   "outputs": [],
   "source": [
    "def count_parameters_detail(model):\n",
    "    total_params = 0\n",
    "    print('Modules: Parameters')\n",
    "    print('-------------------')\n",
    "    for name, parameter in model.named_parameters():\n",
    "        if not parameter.requires_grad: continue\n",
    "        param = parameter.numel()\n",
    "        print(name,': ',param)\n",
    "        total_params+=param\n",
    "    print(f\"Total Trainable Params: {total_params}\")\n",
    "    \n",
    "    # generall dtype is float32 = 32 bits = 4 bytes \n",
    "    print(f\"Disk space neede with float32: {total_params*4/1e6} mb\")\n",
    "    \n",
    "    return total_params"
   ]
  },
  {
   "cell_type": "code",
   "execution_count": 9,
   "id": "6690459b",
   "metadata": {},
   "outputs": [],
   "source": [
    "def test_acc(model, dataloader, device):\n",
    "    correct = 0\n",
    "    total = 0\n",
    "    with torch.no_grad():\n",
    "        for images, labels in dataloader:\n",
    "            \n",
    "            images, labels = images.to(device), labels.to(device)\n",
    "            out = model(images)\n",
    "            \n",
    "            preds = np.argmax(out.detach().cpu().numpy(), axis=1)\n",
    "            labels = labels.cpu().numpy()\n",
    "        \n",
    "            correct += np.sum(preds == labels)\n",
    "            total += len(preds)\n",
    "\n",
    "    \n",
    "    acc = correct/total * 100\n",
    "    print('Accuracy :', round(acc,3), \"%\")\n",
    "    return acc"
   ]
  },
  {
   "cell_type": "code",
   "execution_count": 10,
   "id": "1df53d53",
   "metadata": {},
   "outputs": [
    {
     "name": "stdout",
     "output_type": "stream",
     "text": [
      "Model architecture FCN: FashionNN(\n",
      "  (input): Sequential(\n",
      "    (0): Flatten(start_dim=1, end_dim=-1)\n",
      "    (1): Linear(in_features=784, out_features=512, bias=True)\n",
      "    (2): ReLU()\n",
      "  )\n",
      "  (hidden): Sequential(\n",
      "    (0): Linear(in_features=512, out_features=128, bias=True)\n",
      "    (1): ReLU()\n",
      "  )\n",
      "  (output): Sequential(\n",
      "    (0): Linear(in_features=128, out_features=10, bias=True)\n",
      "  )\n",
      ") \n",
      "\n",
      "Modules: Parameters\n",
      "-------------------\n",
      "input.1.weight :  401408\n",
      "input.1.bias :  512\n",
      "hidden.0.weight :  65536\n",
      "hidden.0.bias :  128\n",
      "output.0.weight :  1280\n",
      "output.0.bias :  10\n",
      "Total Trainable Params: 468874\n",
      "Disk space neede with float32: 1.875496 mb\n",
      "468874\n"
     ]
    }
   ],
   "source": [
    "model = FashionNN().to(device)\n",
    "print(f\"Model architecture FCN: {model} \\n\")\n",
    "print(count_parameters_detail(model))"
   ]
  },
  {
   "cell_type": "code",
   "execution_count": 13,
   "id": "c7fa770a",
   "metadata": {},
   "outputs": [
    {
     "name": "stdout",
     "output_type": "stream",
     "text": [
      "Epoch: 1\n",
      "Accuracy : 79.85 %\n",
      "Final Test Accuracy: 79.85 %\n",
      "Last Train Loss: 263.22897359728813\n",
      "\n",
      "Epoch: 2\n",
      "Accuracy : 80.86 %\n",
      "Final Test Accuracy: 80.86 %\n",
      "Last Train Loss: 249.30933594703674\n",
      "\n",
      "Epoch: 3\n",
      "Accuracy : 81.61 %\n",
      "Final Test Accuracy: 81.61 %\n",
      "Last Train Loss: 239.23781871795654\n",
      "\n",
      "Epoch: 4\n",
      "Accuracy : 81.81 %\n",
      "Final Test Accuracy: 81.81 %\n",
      "Last Train Loss: 231.41450729966164\n",
      "\n"
     ]
    },
    {
     "data": {
      "text/plain": [
       "[<matplotlib.lines.Line2D at 0x7f1ce6e95e80>]"
      ]
     },
     "execution_count": 13,
     "metadata": {},
     "output_type": "execute_result"
    },
    {
     "data": {
      "image/png": "[encoded data removed]",
      "text/plain": [
       "<Figure size 432x288 with 1 Axes>"
      ]
     },
     "metadata": {
      "needs_background": "light"
     },
     "output_type": "display_data"
    }
   ],
   "source": [
    "optimizer = torch.optim.SGD(model.parameters(), lr=0.01)\n",
    "criterion = nn.CrossEntropyLoss()\n",
    "model.to(device)\n",
    "\n",
    "epochs = []\n",
    "losses, accuracies = [], []\n",
    "\n",
    "for epoch in range(1,5):\n",
    "    epochs.append(epoch)\n",
    "    batch = 128\n",
    "    running_loss = 0\n",
    "    print(f\"Epoch: {epoch}\")\n",
    "    for data, labels in train_loader(batch):\n",
    "        \n",
    "        data, labels = data.to(device), labels.to(device)\n",
    "        \n",
    "        optimizer.zero_grad()\n",
    "        out = model(data)\n",
    "        loss = criterion(out,labels)\n",
    "        running_loss += loss.item()\n",
    "        loss.backward()\n",
    "        optimizer.step()\n",
    "        \n",
    "    losses.append(running_loss)\n",
    "    test_acc_ = test_acc(model=model, dataloader=test_loader(128), device=device)\n",
    "    accuracies.append(test_acc_)\n",
    "    print('Final Test Accuracy:',test_acc_,'%')\n",
    "    print('Last Train Loss:', running_loss)\n",
    "    print()\n",
    "    #plt.plot(epochs, t_loss, '--o')\n",
    "    \n",
    "    \n",
    "plt.plot(losses)\n",
    "plt.plot(accuracies)\n",
    "#plt.grid()\n",
    "#plt.legend()\n",
    "#plt.xlabel('Epochs', size=14)\n",
    "#plt.ylabel('Loss', size=14)\n",
    "#plt.show()"
   ]
  },
  {
   "cell_type": "code",
   "execution_count": null,
   "id": "16d4b315",
   "metadata": {},
   "outputs": [],
   "source": [
    "# Freeze Parameters"
   ]
  }
 ],
 "metadata": {
  "kernelspec": {
   "display_name": "Python 3 (ipykernel)",
   "language": "python",
   "name": "python3"
  },
  "language_info": {
   "codemirror_mode": {
    "name": "ipython",
    "version": 3
   },
   "file_extension": ".py",
   "mimetype": "text/x-python",
   "name": "python",
   "nbconvert_exporter": "python",
   "pygments_lexer": "ipython3",
   "version": "3.8.10"
  }
 },
 "nbformat": 4,
 "nbformat_minor": 5
}
