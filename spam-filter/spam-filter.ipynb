{
 "cells": [
  {
   "cell_type": "code",
   "execution_count": null,
   "id": "3e454022-7066-44ad-a541-eb96abb25032",
   "metadata": {},
   "outputs": [],
   "source": [
    "import numpy as np\n",
    "import pandas as pd\n",
    "import matplotlib.pyplot as plt\n",
    "from tqdm import tqdm\n",
    "from wordcloud import WordCloud, STOPWORDS, ImageColorGenerator\n",
    "import re\n",
    "import contractions # I'll => I will\n",
    "\n",
    "from sklearn.model_selection import train_test_split\n",
    "import torch\n",
    "import torch.nn as nn\n",
    "import torch.optim as optim \n",
    "\n",
    "import nltk\n",
    "nltk.download('wordnet')\n",
    "nltk.download('omw-1.4')\n",
    "nltk.download('punkt')\n",
    "from nltk.corpus import stopwords\n",
    "from nltk.tokenize import word_tokenize\n",
    "from nltk import PorterStemmer\n",
    "from nltk import WordNetLemmatizer"
   ]
  },
  {
   "cell_type": "code",
   "execution_count": null,
   "id": "2607e0f7-a375-420c-9339-334413ff4db0",
   "metadata": {},
   "outputs": [],
   "source": [
    "data = pd.read_csv(\"./data/completeSpamAssassin.csv\")\n",
    "\n",
    "\n",
    "# -- 1 = spam, 0 = ham\n",
    "print(f\"-- Number of examples: {len(data)}\")\n",
    "print(f\"-- Shape: {data.shape}\")\n",
    "print(f\"-- Null elements: {data.isnull().sum()}\")\n",
    "print(data.head())"
   ]
  },
  {
   "cell_type": "code",
   "execution_count": null,
   "id": "e2ac10e1-8ed7-4104-84c5-81d8e9e9cf16",
   "metadata": {},
   "outputs": [],
   "source": [
    "# check for body NaN and remove it\n",
    "print(data.loc[data.Body.isnull()])\n",
    "data = data.dropna()"
   ]
  },
  {
   "cell_type": "code",
   "execution_count": null,
   "id": "a5c4e1d2-9fd2-4176-bea4-b9efdec46fc9",
   "metadata": {},
   "outputs": [],
   "source": [
    "data.Body.describe()"
   ]
  },
  {
   "cell_type": "code",
   "execution_count": null,
   "id": "54425199-14f6-47b3-92c0-6364587da9d4",
   "metadata": {},
   "outputs": [],
   "source": [
    "print(type(data.Body))\n",
    "\n",
    "data.Body[0]"
   ]
  },
  {
   "cell_type": "code",
   "execution_count": null,
   "id": "2479db28-11c2-49c3-abc2-535f341042d8",
   "metadata": {},
   "outputs": [],
   "source": [
    "spam_count = len(data.loc[data.Label == 1])\n",
    "ham_count = len(data.loc[data.Label == 0])\n",
    "print(f\"Spam: {spam_count}\")\n",
    "print(f\"Ham: {ham_count}\")\n",
    "# Creating histogram\n",
    "bins = [\"ham\", \"spam\"]\n",
    "fig, ax = plt.subplots(1, 1)\n",
    "ax.hist(data.Label, bins=2, facecolor='green', edgecolor='gray')\n",
    "ax.set_ylabel(\"Nb of examples\")\n",
    "ax.patches[0].set_facecolor(\"blue\")\n",
    "ax.patches[1].set_facecolor(\"yellow\")\n",
    "ax.legend(handles=[ax.patches[0], ax.patches[1]], labels=['Ham (0)', 'Spam (1)'])\n",
    "ax.set_title(\"Spam/Ham\")\n",
    "plt.show();"
   ]
  },
  {
   "cell_type": "markdown",
   "id": "b254f809-4b19-4a95-9a52-f7e08759616a",
   "metadata": {},
   "source": [
    "### Text Cleaning"
   ]
  },
  {
   "cell_type": "code",
   "execution_count": null,
   "id": "63e60901-85cd-47bb-b01b-90c575648130",
   "metadata": {},
   "outputs": [],
   "source": [
    "nltk.download(\"stopwords\")\n",
    "stopwords = stopwords.words(\"english\")\n",
    "print(stopwords)"
   ]
  },
  {
   "cell_type": "code",
   "execution_count": null,
   "id": "5ec53650-132f-4202-bc6c-7565a3c26bb1",
   "metadata": {},
   "outputs": [],
   "source": [
    "def cleaning_text(data, stopwords):\n",
    "    cleaned_text = []\n",
    "    ps = PorterStemmer()\n",
    "    lemmatizer = WordNetLemmatizer()\n",
    "    \n",
    "    remove_non_alphabets = lambda x: re.sub(r'[^a-zA-Z]',' ',x)\n",
    "    remove_html_tags = lambda x: re.sub('(<[\\w\\s]*/?>)',\"\",x)\n",
    "    remove_digits = lambda x: re.sub(\"\\d+\", \"\", x)\n",
    "    tokenize = lambda x: word_tokenize(x)\n",
    "    stem = lambda w: [ ps.stem(x) for x in w ]\n",
    "    lem = lambda x: [ lemmatizer.lemmatize(word) for word in x ]\n",
    "    \n",
    "    operations = []\n",
    "    operations.append(remove_non_alphabets)\n",
    "    operations.append(remove_html_tags)\n",
    "    operations.append(remove_digits)\n",
    "    operations.append(tokenize)\n",
    "    operations.append(stem)\n",
    "    operations.append(lem)\n",
    "    \n",
    "    \n",
    "    for op in tqdm(operations):\n",
    "        data = data.apply(op)\n",
    "\n",
    "    data = data.apply(lambda x: \" \".join(x))\n",
    "\n",
    "    return data"
   ]
  },
  {
   "cell_type": "code",
   "execution_count": null,
   "id": "c6fa2e6c-2cb8-43eb-b75a-10133aa4353d",
   "metadata": {},
   "outputs": [],
   "source": [
    "cleaned_body = cleaning_text(data.Body, stopwords)\n",
    "print(type(cleaned_body))"
   ]
  },
  {
   "cell_type": "code",
   "execution_count": null,
   "id": "7bfabf2f-7890-48e0-b4ce-70447ff05fa9",
   "metadata": {},
   "outputs": [],
   "source": [
    "data_processed = pd.DataFrame({\"Body\": cleaned_body, \"Label\": list(data.Label)})\n",
    "data_processed"
   ]
  },
  {
   "cell_type": "code",
   "execution_count": null,
   "id": "8e85dd4e-99ab-4e6c-9a26-83d0cc0a0ac6",
   "metadata": {},
   "outputs": [],
   "source": [
    "def data_body_to_string(data, spam):\n",
    "    if spam:\n",
    "        label = 1\n",
    "    else:\n",
    "        label = 0\n",
    "    data = data.loc[data.Label == spam]\n",
    "    data_list = data.Body.tolist()\n",
    "    data_string = \" \".join(data_list)\n",
    "    return data_string"
   ]
  },
  {
   "cell_type": "code",
   "execution_count": null,
   "id": "cd43ba26-4029-42e4-9573-fbdf99e8abe3",
   "metadata": {},
   "outputs": [],
   "source": [
    "data_spam_string = data_body_to_string(data_processed, spam=True)\n",
    "data_ham_string = data_body_to_string(data_processed, spam=False)"
   ]
  },
  {
   "cell_type": "code",
   "execution_count": null,
   "id": "93c4ad15-daa7-4d0a-80c7-092ad4fe08d5",
   "metadata": {},
   "outputs": [],
   "source": [
    "wc_spam = WordCloud(stopwords = stopwords, collocations=True).generate(data_spam_string)\n",
    "wc_ham = WordCloud(stopwords = stopwords, collocations=True).generate(data_ham_string)"
   ]
  },
  {
   "cell_type": "code",
   "execution_count": null,
   "id": "12a29930-86bd-4dbc-8e3e-3494934e5119",
   "metadata": {},
   "outputs": [],
   "source": [
    "plt.figure(figsize=(12,12))\n",
    "plt.imshow(wc_spam, interpolation='bilInear')\n",
    "plt.title(\"Spam Email words\")\n",
    "plt.axis('off')\n",
    "plt.show()"
   ]
  },
  {
   "cell_type": "code",
   "execution_count": null,
   "id": "58ab42a0-1fad-44a9-af0a-6bb51ff84ae8",
   "metadata": {},
   "outputs": [],
   "source": [
    "plt.figure(figsize=(12,12))\n",
    "plt.imshow(wc_ham, interpolation='bilInear')\n",
    "plt.title(\"Ham Email words\")\n",
    "plt.axis('off')\n",
    "plt.show()"
   ]
  },
  {
   "cell_type": "markdown",
   "id": "1da200e2-39d2-4297-93c7-49bb49188406",
   "metadata": {},
   "source": [
    "### Training"
   ]
  },
  {
   "cell_type": "code",
   "execution_count": null,
   "id": "8f3e4bc5-ebed-4c7f-8092-c99d253dde8a",
   "metadata": {},
   "outputs": [],
   "source": [
    "X_train, X_test, y_train, y_test = train_test_split(data_processed.Body, data_processed.Label, stratify=data_processed.Label, test_size=0.3)"
   ]
  },
  {
   "cell_type": "markdown",
   "id": "cf20c9d2-a787-43c0-9ebd-a0a9b86f8844",
   "metadata": {
    "tags": []
   },
   "source": [
    "### Model \n",
    "embedding layer => bidirectional => GRU\n",
    "\n",
    "#### Embedding Layer\n",
    "![Embedding](img/embedding_layer.png) <br>\n",
    "Lookup table and this table map the index/token to a vector, and this vector represents the word in  the higher dimensional space\n",
    "\n",
    "---\n",
    "\n",
    "#### Bidirectional\n",
    "2 LSTM Networks \n",
    "\n",
    "---\n",
    "\n",
    "#### GRU\n",
    "Gated Recurrent Units. \n"
   ]
  },
  {
   "cell_type": "code",
   "execution_count": null,
   "id": "945451a3-517c-4e5e-b422-82398fc53c9a",
   "metadata": {},
   "outputs": [],
   "source": []
  }
 ],
 "metadata": {
  "kernelspec": {
   "display_name": "Python 3 (ipykernel)",
   "language": "python",
   "name": "python3"
  },
  "language_info": {
   "codemirror_mode": {
    "name": "ipython",
    "version": 3
   },
   "file_extension": ".py",
   "mimetype": "text/x-python",
   "name": "python",
   "nbconvert_exporter": "python",
   "pygments_lexer": "ipython3",
   "version": "3.10.4"
  }
 },
 "nbformat": 4,
 "nbformat_minor": 5
}
